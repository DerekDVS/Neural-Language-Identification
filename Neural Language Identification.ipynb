{
 "cells": [
  {
   "cell_type": "code",
   "execution_count": 3,
   "id": "11c7b961",
   "metadata": {},
   "outputs": [
    {
     "name": "stderr",
     "output_type": "stream",
     "text": [
      "C:\\Users\\Derek\\AppData\\Local\\Temp\\ipykernel_5268\\2957072331.py:23: FutureWarning: The frame.append method is deprecated and will be removed from pandas in a future version. Use pandas.concat instead.\n",
      "  data_trim = data_trim.append(lang_trim)\n",
      "C:\\Users\\Derek\\AppData\\Local\\Temp\\ipykernel_5268\\2957072331.py:23: FutureWarning: The frame.append method is deprecated and will be removed from pandas in a future version. Use pandas.concat instead.\n",
      "  data_trim = data_trim.append(lang_trim)\n"
     ]
    }
   ],
   "source": [
    "import pandas as pd\n",
    "\n",
    "#Read in full dataset\n",
    "data = pd.read_csv('data/sentences.csv',\n",
    "                            sep='\\t', \n",
    "                            encoding='utf8', \n",
    "                            index_col=0,\n",
    "                            names=['lang','text'])\n",
    "\n",
    "#Filter by text length\n",
    "len_cond = [True if 20<=len(s)<=200 else False for s in data['text']]\n",
    "data = data[len_cond]\n",
    "\n",
    "#Filter by text language\n",
    "lang = ['eng', 'spa']\n",
    "data = data[data['lang'].isin(lang)]\n",
    "\n",
    "#Select 50000 rows for each language\n",
    "data_trim = pd.DataFrame(columns=['lang','text'])\n",
    "\n",
    "for l in lang:\n",
    "    lang_trim = data[data['lang'] ==l].sample(50000,random_state = 100)\n",
    "    data_trim = data_trim.append(lang_trim)\n",
    "\n",
    "#Create a random train, valid, test split\n",
    "data_shuffle = data_trim.sample(frac=1)\n"
   ]
  },
  {
   "cell_type": "code",
   "execution_count": 4,
   "id": "d888203b",
   "metadata": {},
   "outputs": [
    {
     "ename": "NameError",
     "evalue": "name 'train' is not defined",
     "output_type": "error",
     "traceback": [
      "\u001b[1;31m---------------------------------------------------------------------------\u001b[0m",
      "\u001b[1;31mNameError\u001b[0m                                 Traceback (most recent call last)",
      "Cell \u001b[1;32mIn[4], line 8\u001b[0m\n\u001b[0;32m      5\u001b[0m     list_trigram \u001b[38;5;241m=\u001b[39m [item \u001b[38;5;28;01mfor\u001b[39;00m sublist \u001b[38;5;129;01min\u001b[39;00m sent_trigram \u001b[38;5;28;01mfor\u001b[39;00m item \u001b[38;5;129;01min\u001b[39;00m sublist]\n\u001b[0;32m      6\u001b[0m     \u001b[38;5;28;01mreturn\u001b[39;00m list_trigram\n\u001b[1;32m----> 8\u001b[0m sent_list \u001b[38;5;241m=\u001b[39m \u001b[43mtrain\u001b[49m[\u001b[38;5;124m'\u001b[39m\u001b[38;5;124msent\u001b[39m\u001b[38;5;124m'\u001b[39m][\u001b[38;5;241m0\u001b[39m:\u001b[38;5;241m10\u001b[39m]\n\u001b[0;32m      9\u001b[0m trigram_list(sent_list)\n",
      "\u001b[1;31mNameError\u001b[0m: name 'train' is not defined"
     ]
    }
   ],
   "source": [
    "def trigram_list(sent_list):\n",
    "    \"Takes in a list of sentences and returns a list of trigrams \"\n",
    "    sent_clean = list(map(clean_text, sent_list))\n",
    "    sent_trigram = list(map(char_trigram,sent_clean))\n",
    "    list_trigram = [item for sublist in sent_trigram for item in sublist]\n",
    "    return list_trigram\n",
    "\n",
    "sent_list = train['sent'][0:10]\n",
    "trigram_list(sent_list)"
   ]
  },
  {
   "cell_type": "code",
   "execution_count": 5,
   "id": "596eff09",
   "metadata": {},
   "outputs": [
    {
     "ename": "NameError",
     "evalue": "name 'train' is not defined",
     "output_type": "error",
     "traceback": [
      "\u001b[1;31m---------------------------------------------------------------------------\u001b[0m",
      "\u001b[1;31mNameError\u001b[0m                                 Traceback (most recent call last)",
      "Cell \u001b[1;32mIn[5], line 8\u001b[0m\n\u001b[0;32m      5\u001b[0m         common\u001b[38;5;241m.\u001b[39mappend(e[\u001b[38;5;241m0\u001b[39m])\n\u001b[0;32m      6\u001b[0m     \u001b[38;5;28;01mreturn\u001b[39;00m common\n\u001b[1;32m----> 8\u001b[0m sent_list \u001b[38;5;241m=\u001b[39m \u001b[43mtrain\u001b[49m[\u001b[38;5;124m'\u001b[39m\u001b[38;5;124msent\u001b[39m\u001b[38;5;124m'\u001b[39m][\u001b[38;5;241m0\u001b[39m:\u001b[38;5;241m1000\u001b[39m]\n\u001b[0;32m      9\u001b[0m trigrams \u001b[38;5;241m=\u001b[39m trigram_list(sent_list)\n\u001b[0;32m     10\u001b[0m most_frequent(\u001b[38;5;241m20\u001b[39m, trigrams)\n",
      "\u001b[1;31mNameError\u001b[0m: name 'train' is not defined"
     ]
    }
   ],
   "source": [
    "def most_frequent(n,trigrams):\n",
    "    \"Takes in a list of trigrams and returns the n most frequent trigrams\"\n",
    "    common = []\n",
    "    for e in Counter(trigrams).most_common(n):\n",
    "        common.append(e[0])\n",
    "    return common\n",
    "\n",
    "sent_list = train['sent'][0:1000]\n",
    "trigrams = trigram_list(sent_list)\n",
    "most_frequent(20, trigrams)"
   ]
  },
  {
   "cell_type": "code",
   "execution_count": 6,
   "id": "d5c4e5c1",
   "metadata": {},
   "outputs": [
    {
     "ename": "NameError",
     "evalue": "name 'train' is not defined",
     "output_type": "error",
     "traceback": [
      "\u001b[1;31m---------------------------------------------------------------------------\u001b[0m",
      "\u001b[1;31mNameError\u001b[0m                                 Traceback (most recent call last)",
      "Cell \u001b[1;32mIn[6], line 14\u001b[0m\n\u001b[0;32m     11\u001b[0m         freq[n] \u001b[38;5;241m=\u001b[39m most_frequent(\u001b[38;5;28mint\u001b[39m(n), trigrams)\n\u001b[0;32m     12\u001b[0m     \u001b[38;5;28;01mreturn\u001b[39;00m freq \n\u001b[1;32m---> 14\u001b[0m \u001b[43mlang_features\u001b[49m\u001b[43m(\u001b[49m\u001b[43m[\u001b[49m\u001b[38;5;124;43m'\u001b[39;49m\u001b[38;5;124;43m20\u001b[39;49m\u001b[38;5;124;43m'\u001b[39;49m\u001b[43m,\u001b[49m\u001b[38;5;124;43m'\u001b[39;49m\u001b[38;5;124;43m30\u001b[39;49m\u001b[38;5;124;43m'\u001b[39;49m\u001b[43m]\u001b[49m\u001b[43m,\u001b[49m\u001b[38;5;124;43m'\u001b[39;49m\u001b[38;5;124;43meng\u001b[39;49m\u001b[38;5;124;43m'\u001b[39;49m\u001b[43m)\u001b[49m\n",
      "Cell \u001b[1;32mIn[6], line 5\u001b[0m, in \u001b[0;36mlang_features\u001b[1;34m(n_list, lang)\u001b[0m\n\u001b[0;32m      1\u001b[0m \u001b[38;5;28;01mdef\u001b[39;00m \u001b[38;5;21mlang_features\u001b[39m(n_list,lang):\n\u001b[0;32m      2\u001b[0m     \u001b[38;5;124;03m\"\"\"Returns a dictionary of the most frequent trigrams for a given language. Each element is a list of the n most\u001b[39;00m\n\u001b[0;32m      3\u001b[0m \u001b[38;5;124;03m    frequent trigrams when n is a element of n_list\"\"\"\u001b[39;00m\n\u001b[1;32m----> 5\u001b[0m     train_lang \u001b[38;5;241m=\u001b[39m \u001b[43mtrain\u001b[49m[train[\u001b[38;5;124m'\u001b[39m\u001b[38;5;124mlang\u001b[39m\u001b[38;5;124m'\u001b[39m] \u001b[38;5;241m==\u001b[39m lang]\n\u001b[0;32m      6\u001b[0m     sent_list \u001b[38;5;241m=\u001b[39m train_lang[\u001b[38;5;124m'\u001b[39m\u001b[38;5;124msent\u001b[39m\u001b[38;5;124m'\u001b[39m]\n\u001b[0;32m      7\u001b[0m     trigrams \u001b[38;5;241m=\u001b[39m trigram_list(sent_list)\n",
      "\u001b[1;31mNameError\u001b[0m: name 'train' is not defined"
     ]
    }
   ],
   "source": [
    "def lang_features(n_list,lang):\n",
    "    \"\"\"Returns a dictionary of the most frequent trigrams for a given language. Each element is a list of the n most\n",
    "    frequent trigrams when n is a element of n_list\"\"\"\n",
    "    \n",
    "    train_lang = train[train['lang'] == lang]\n",
    "    sent_list = train_lang['sent']\n",
    "    trigrams = trigram_list(sent_list)\n",
    "    \n",
    "    freq = {}\n",
    "    for n in n_list:\n",
    "        freq[n] = most_frequent(int(n), trigrams)\n",
    "    return freq \n",
    "    \n",
    "lang_features(['20','30'],'eng')"
   ]
  },
  {
   "cell_type": "code",
   "execution_count": 7,
   "id": "4d917e66",
   "metadata": {},
   "outputs": [],
   "source": [
    "def char_trigram(sent):\n",
    "    \"Takes a string and returns a list of character n-grams\"\n",
    "    return [sent[i:i+3] for i in range(len(sent)-3+1)]"
   ]
  },
  {
   "cell_type": "code",
   "execution_count": null,
   "id": "3b04b28d",
   "metadata": {},
   "outputs": [],
   "source": []
  }
 ],
 "metadata": {
  "kernelspec": {
   "display_name": "Python 3 (ipykernel)",
   "language": "python",
   "name": "python3"
  },
  "language_info": {
   "codemirror_mode": {
    "name": "ipython",
    "version": 3
   },
   "file_extension": ".py",
   "mimetype": "text/x-python",
   "name": "python",
   "nbconvert_exporter": "python",
   "pygments_lexer": "ipython3",
   "version": "3.9.16"
  }
 },
 "nbformat": 4,
 "nbformat_minor": 5
}
